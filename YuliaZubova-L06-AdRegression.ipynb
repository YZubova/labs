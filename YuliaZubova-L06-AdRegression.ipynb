{
 "cells": [
  {
   "cell_type": "markdown",
   "metadata": {},
   "source": [
    "# Lesson 6 Assignment - Advertising Sales Regression\n",
    "\n",
    "## Author - Yulia Zubova\n",
    "\n"
   ]
  },
  {
   "cell_type": "markdown",
   "metadata": {},
   "source": [
    "### Instructions  \n",
    "Perform four different linear regressions on advertising sales data located in 'Advertising.csv'.  Your dependent feature is 'sales', a measure of sales of a product in a given market in thousands of dollars. \n",
    "\n",
    "The independent features for each of the first 3 separate regressions are:\n",
    "\n",
    " 1. 'TV': advertising dollars spent on TV ads for a single product in a given market.\n",
    " 2. 'radio': advertising dollars spent radio ads.\n",
    " 3. 'newspaper': advertising dollars spent on newspaper ads.\n",
    "\n",
    "For the first 3 linear regression performed:\n",
    "\n",
    "- Produce a labeled graph showing the best fit line with the data points.\n",
    "- Interpret both the slope and y-intercept.\n",
    " \n",
    "The final regression(#4) includes all 3 features: (a) TV, (b) radio, and (c) newspaper. \n",
    "- Interpret each partial slope and the intercept parameters.\n",
    "- Interpret the adjusted R-squared.\n",
    "- Find and report the mean-squared error.\n",
    "\n",
    "#### Please prepare this information for a client who may not understand what the parameters mean.\n"
   ]
  },
  {
   "cell_type": "code",
   "execution_count": 1,
   "metadata": {
    "collapsed": true
   },
   "outputs": [],
   "source": [
    "# Import libraries\n",
    "import numpy as np\n",
    "import pandas as pd\n",
    "import matplotlib.pyplot as plt\n",
    "%matplotlib inline\n",
    "\n",
    "import statsmodels.formula.api as sm\n",
    "import seaborn as sns\n",
    "\n",
    "from sklearn import linear_model\n",
    "# from sklearn.linear_model import LinearRegression"
   ]
  },
  {
   "cell_type": "code",
   "execution_count": 2,
   "metadata": {},
   "outputs": [
    {
     "name": "stdout",
     "output_type": "stream",
     "text": [
      "      TV  radio  newspaper  sales\n",
      "1  230.1   37.8       69.2   22.1\n",
      "2   44.5   39.3       45.1   10.4\n",
      "3   17.2   45.9       69.3    9.3\n",
      "4  151.5   41.3       58.5   18.5\n",
      "5  180.8   10.8       58.4   12.9\n",
      "(200, 4)\n"
     ]
    },
    {
     "data": {
      "text/html": [
       "<div>\n",
       "<style>\n",
       "    .dataframe thead tr:only-child th {\n",
       "        text-align: right;\n",
       "    }\n",
       "\n",
       "    .dataframe thead th {\n",
       "        text-align: left;\n",
       "    }\n",
       "\n",
       "    .dataframe tbody tr th {\n",
       "        vertical-align: top;\n",
       "    }\n",
       "</style>\n",
       "<table border=\"1\" class=\"dataframe\">\n",
       "  <thead>\n",
       "    <tr style=\"text-align: right;\">\n",
       "      <th></th>\n",
       "      <th>TV</th>\n",
       "      <th>radio</th>\n",
       "      <th>newspaper</th>\n",
       "      <th>sales</th>\n",
       "    </tr>\n",
       "  </thead>\n",
       "  <tbody>\n",
       "    <tr>\n",
       "      <th>count</th>\n",
       "      <td>200.000000</td>\n",
       "      <td>200.000000</td>\n",
       "      <td>200.000000</td>\n",
       "      <td>200.000000</td>\n",
       "    </tr>\n",
       "    <tr>\n",
       "      <th>mean</th>\n",
       "      <td>147.042500</td>\n",
       "      <td>23.264000</td>\n",
       "      <td>30.554000</td>\n",
       "      <td>14.022500</td>\n",
       "    </tr>\n",
       "    <tr>\n",
       "      <th>std</th>\n",
       "      <td>85.854236</td>\n",
       "      <td>14.846809</td>\n",
       "      <td>21.778621</td>\n",
       "      <td>5.217457</td>\n",
       "    </tr>\n",
       "    <tr>\n",
       "      <th>min</th>\n",
       "      <td>0.700000</td>\n",
       "      <td>0.000000</td>\n",
       "      <td>0.300000</td>\n",
       "      <td>1.600000</td>\n",
       "    </tr>\n",
       "    <tr>\n",
       "      <th>25%</th>\n",
       "      <td>74.375000</td>\n",
       "      <td>9.975000</td>\n",
       "      <td>12.750000</td>\n",
       "      <td>10.375000</td>\n",
       "    </tr>\n",
       "    <tr>\n",
       "      <th>50%</th>\n",
       "      <td>149.750000</td>\n",
       "      <td>22.900000</td>\n",
       "      <td>25.750000</td>\n",
       "      <td>12.900000</td>\n",
       "    </tr>\n",
       "    <tr>\n",
       "      <th>75%</th>\n",
       "      <td>218.825000</td>\n",
       "      <td>36.525000</td>\n",
       "      <td>45.100000</td>\n",
       "      <td>17.400000</td>\n",
       "    </tr>\n",
       "    <tr>\n",
       "      <th>max</th>\n",
       "      <td>296.400000</td>\n",
       "      <td>49.600000</td>\n",
       "      <td>114.000000</td>\n",
       "      <td>27.000000</td>\n",
       "    </tr>\n",
       "  </tbody>\n",
       "</table>\n",
       "</div>"
      ],
      "text/plain": [
       "               TV       radio   newspaper       sales\n",
       "count  200.000000  200.000000  200.000000  200.000000\n",
       "mean   147.042500   23.264000   30.554000   14.022500\n",
       "std     85.854236   14.846809   21.778621    5.217457\n",
       "min      0.700000    0.000000    0.300000    1.600000\n",
       "25%     74.375000    9.975000   12.750000   10.375000\n",
       "50%    149.750000   22.900000   25.750000   12.900000\n",
       "75%    218.825000   36.525000   45.100000   17.400000\n",
       "max    296.400000   49.600000  114.000000   27.000000"
      ]
     },
     "execution_count": 2,
     "metadata": {},
     "output_type": "execute_result"
    }
   ],
   "source": [
    "# Load data\n",
    "filename = 'https://library.startlearninglabs.uw.edu/DATASCI410/Datasets/Advertising.csv'\n",
    "ad_data = pd.read_csv(filename, index_col=0)\n",
    "print(ad_data.head())\n",
    "print(ad_data.shape)\n",
    "ad_data.describe()"
   ]
  },
  {
   "cell_type": "code",
   "execution_count": 3,
   "metadata": {
    "collapsed": true
   },
   "outputs": [],
   "source": [
    "x1 = ad_data['TV']\n",
    "x2 = ad_data['radio']\n",
    "x3 = ad_data['newspaper']"
   ]
  },
  {
   "cell_type": "markdown",
   "metadata": {},
   "source": [
    "## 1. Advertising dollars spent on TV"
   ]
  },
  {
   "cell_type": "markdown",
   "metadata": {},
   "source": [
    "### Linear model for case if total sales depends on TV expenses only ###"
   ]
  },
  {
   "cell_type": "code",
   "execution_count": 4,
   "metadata": {
    "collapsed": true
   },
   "outputs": [],
   "source": [
    "sim_data_TV = ad_data[['TV', 'sales']] #dataset contains feature(TV) and label (sales)"
   ]
  },
  {
   "cell_type": "code",
   "execution_count": 5,
   "metadata": {},
   "outputs": [
    {
     "name": "stdout",
     "output_type": "stream",
     "text": [
      "Intercept: 7.03259\n",
      "Slope : 0.04754\n"
     ]
    }
   ],
   "source": [
    "# ols = ordinary least squares model\n",
    "#Initialize model\n",
    "ols_model_TV = sm.ols(formula = 'sales ~ TV', data=sim_data_TV)\n",
    "\n",
    "#fit model to data\n",
    "results_TV = ols_model_TV.fit()\n",
    "\n",
    "# Get slope (m) and y-intercept (b)\n",
    "print('Intercept: {0:.5f}'.format(results_TV.params.Intercept))\n",
    "print('Slope : {0:.5f}'.format(results_TV.params.TV))"
   ]
  },
  {
   "cell_type": "markdown",
   "metadata": {},
   "source": [
    "We know intercept and slope, so it's easy to build graph ( y = m*x + b)"
   ]
  },
  {
   "cell_type": "code",
   "execution_count": 6,
   "metadata": {},
   "outputs": [
    {
     "data": {
      "text/plain": [
       "Text(0.5,1,'TV expenses vs Sales')"
      ]
     },
     "execution_count": 6,
     "metadata": {},
     "output_type": "execute_result"
    },
    {
     "data": {
      "image/png": "[encoded data removed]",
      "text/plain": [
       "<matplotlib.figure.Figure at 0x226401996a0>"
      ]
     },
     "metadata": {},
     "output_type": "display_data"
    }
   ],
   "source": [
    "n_points = 200\n",
    "x1 = np.linspace(sim_data_TV['TV'].min(), sim_data_TV['TV'].max(), n_points)\n",
    "plt.plot(sim_data_TV['TV'], sim_data_TV['sales'], 'ko') #scatter plot TV expenses vs total sales\n",
    "plt.plot(x1, results_TV.params.TV*x1 + results_TV.params.Intercept, linewidth=3 , color = 'red')  #show the best fit graph for TV\n",
    "#expenses report\n",
    "plt.grid(True)\n",
    "plt.xlabel('TV expenses')\n",
    "plt.ylabel('Sales')\n",
    "plt.title('TV expenses vs Sales')"
   ]
  },
  {
   "cell_type": "markdown",
   "metadata": {},
   "source": [
    "#### Getting parameters using sklearn####"
   ]
  },
  {
   "cell_type": "code",
   "execution_count": 7,
   "metadata": {},
   "outputs": [
    {
     "name": "stdout",
     "output_type": "stream",
     "text": [
      "Intercept: 7.03259\n",
      "Slope : 0.04754\n"
     ]
    },
    {
     "data": {
      "image/png": "[encoded data removed]",
      "text/plain": [
       "<matplotlib.figure.Figure at 0x226406b5278>"
      ]
     },
     "metadata": {},
     "output_type": "display_data"
    }
   ],
   "source": [
    "# First initialize the model.\n",
    "linear_model_TV = linear_model.LinearRegression()\n",
    "\n",
    "# Fit the model to the data\n",
    "x_TV = sim_data_TV['TV'].values.reshape(n_points, 1) # the reshape is required by sklearn\n",
    "y_TV = sim_data_TV['sales'].values.reshape(n_points, 1)\n",
    "linear_model_TV.fit(x_TV, y_TV)\n",
    "\n",
    "# Get predictions\n",
    "y_TV_pred = linear_model_TV.predict(x_TV)\n",
    "\n",
    "# Plot output\n",
    "plt.scatter(x_TV, y_TV)\n",
    "plt.plot(x_TV, y_TV_pred, linewidth=2)\n",
    "plt.grid(True)\n",
    "plt.xlabel('TV expenses')\n",
    "plt.ylabel('Total sales')\n",
    "plt.title('TV expenses vs Total sales')\n",
    "\n",
    "# Print model parameters\n",
    "# Get slope (m) and y-intercept (b)\n",
    "print('Intercept: {0:.5f}'.format(linear_model_TV.intercept_[0]))\n",
    "print('Slope : {0:.5f}'.format(linear_model_TV.coef_[0][0]))"
   ]
  },
  {
   "cell_type": "markdown",
   "metadata": {},
   "source": [
    "Both models show the same rresults.\n",
    "Intercept = 7.03\n",
    "Slope = 0.05\n",
    "\n",
    "#### Parameter interpretation ####\n",
    "\n",
    "**Intercept**:  When TV expenses == 0 , sales are 7.03\n",
    "    \n",
    "**Slope**:  When we increase TV expenses by 1 then we expect that sales will go up by 0.05."
   ]
  },
  {
   "cell_type": "markdown",
   "metadata": {},
   "source": [
    "## 2. Advertising dollars spent radio ads"
   ]
  },
  {
   "cell_type": "markdown",
   "metadata": {},
   "source": [
    "### Linear model for case if total sales depends on radio expenses only ###"
   ]
  },
  {
   "cell_type": "code",
   "execution_count": 8,
   "metadata": {
    "collapsed": true
   },
   "outputs": [],
   "source": [
    "sim_data_radio = ad_data[['radio', 'sales']]  #dataset contains feature(radio) and label (sales)"
   ]
  },
  {
   "cell_type": "code",
   "execution_count": 9,
   "metadata": {},
   "outputs": [
    {
     "name": "stdout",
     "output_type": "stream",
     "text": [
      "Intercept: 9.31164\n",
      "Slope : 0.20250\n"
     ]
    }
   ],
   "source": [
    "# ols = ordinary least squares model\n",
    "ols_model_radio = sm.ols(formula = 'sales ~ radio', data=sim_data_radio)\n",
    "\n",
    "results_radio = ols_model_radio.fit()\n",
    "\n",
    "# Get slope (m) and y-intercept (b)\n",
    "print('Intercept: {0:.5f}'.format(results_radio.params.Intercept))\n",
    "print('Slope : {0:.5f}'.format(results_radio.params.radio))"
   ]
  },
  {
   "cell_type": "code",
   "execution_count": 14,
   "metadata": {},
   "outputs": [
    {
     "data": {
      "text/plain": [
       "Text(0.5,1,'Radio expenses vs Sales')"
      ]
     },
     "execution_count": 14,
     "metadata": {},
     "output_type": "execute_result"
    },
    {
     "data": {
      "image/png": "[encoded data removed]",
      "text/plain": [
       "<matplotlib.figure.Figure at 0x22640e98c18>"
      ]
     },
     "metadata": {},
     "output_type": "display_data"
    }
   ],
   "source": [
    "n_points = 200\n",
    "x2 = np.linspace(sim_data_radio['radio'].min(), sim_data_radio['radio'].max(), n_points)\n",
    "plt.plot(sim_data_radio['radio'], sim_data_radio['sales'], 'ko')\n",
    "plt.plot(x2, results_radio.params.radio*x2 + results_radio.params.Intercept, linewidth=3 , color = 'red')\n",
    "plt.grid(True)\n",
    "plt.xlabel('Radio expenses')\n",
    "plt.ylabel('Sales')\n",
    "plt.title('Radio expenses vs Sales')"
   ]
  },
  {
   "cell_type": "markdown",
   "metadata": {},
   "source": [
    "#### Getting parameters using sklearn ####"
   ]
  },
  {
   "cell_type": "code",
   "execution_count": 15,
   "metadata": {},
   "outputs": [
    {
     "name": "stdout",
     "output_type": "stream",
     "text": [
      "Intercept: 9.31164\n",
      "Slope : 0.20250\n"
     ]
    },
    {
     "data": {
      "image/png": "[encoded data removed]",
      "text/plain": [
       "<matplotlib.figure.Figure at 0x226406b52e8>"
      ]
     },
     "metadata": {},
     "output_type": "display_data"
    }
   ],
   "source": [
    "#Initialize the model.\n",
    "linear_model_radio = linear_model.LinearRegression()\n",
    "\n",
    "# Fit the model to the data\n",
    "x_radio = sim_data_radio['radio'].values.reshape(n_points, 1) # the reshape is required by sklearn\n",
    "y_radio = sim_data_radio['sales'].values.reshape(n_points, 1)\n",
    "linear_model_radio.fit(x_radio, y_radio)\n",
    "\n",
    "# Get predictions\n",
    "y_radio_pred = linear_model_radio.predict(x_radio)\n",
    "\n",
    "# Plot output\n",
    "plt.scatter(x_radio, y_radio)\n",
    "plt.plot(x_radio, y_radio_pred, linewidth=2)\n",
    "plt.grid(True)\n",
    "plt.xlabel('Radio expenses')\n",
    "plt.ylabel('Total sales')\n",
    "plt.title('Radio expenses vs Total sales')\n",
    "\n",
    "# Print model parameters\n",
    "# Get slope (m) and y-intercept (b)\n",
    "print('Intercept: {0:.5f}'.format(linear_model_radio.intercept_[0]))\n",
    "print('Slope : {0:.5f}'.format(linear_model_radio.coef_[0][0]))"
   ]
  },
  {
   "cell_type": "markdown",
   "metadata": {},
   "source": [
    "Both models show the same results.\n",
    "Intercept = 9.31\n",
    "Slope = 0.2\n",
    "\n",
    "#### Parameter interpretation ####\n",
    "\n",
    "**Intercept**:  When **radio** expenses == 0 , **sales** are 9.31.\n",
    "    \n",
    "**Slope**:  When we increase **radio** expenses by 1 then we expect that **sales** will go up by 0.2."
   ]
  },
  {
   "cell_type": "markdown",
   "metadata": {},
   "source": [
    "## 3. Advertising dollars spent on newspaper ads"
   ]
  },
  {
   "cell_type": "markdown",
   "metadata": {},
   "source": [
    "### Linear model for case if total sales depends on newspaper expenses only ###"
   ]
  },
  {
   "cell_type": "code",
   "execution_count": 16,
   "metadata": {
    "collapsed": true
   },
   "outputs": [],
   "source": [
    "sim_data_newspaper = ad_data[['newspaper', 'sales']]   #dataset contains feature(newspaper) and label (sales)"
   ]
  },
  {
   "cell_type": "code",
   "execution_count": 17,
   "metadata": {},
   "outputs": [
    {
     "name": "stdout",
     "output_type": "stream",
     "text": [
      "Intercept: 12.35141\n",
      "Slope : 0.05469\n"
     ]
    }
   ],
   "source": [
    "# ols = ordinary least squares model\n",
    "ols_model_newspaper = sm.ols(formula = 'sales ~ newspaper', data=sim_data_newspaper)\n",
    "\n",
    "results_newspaper = ols_model_newspaper.fit()\n",
    "\n",
    "# Get slope (m) and y-intercept (b)\n",
    "print('Intercept: {0:.5f}'.format(results_newspaper.params.Intercept))\n",
    "print('Slope : {0:.5f}'.format(results_newspaper.params.newspaper))"
   ]
  },
  {
   "cell_type": "code",
   "execution_count": 18,
   "metadata": {},
   "outputs": [
    {
     "data": {
      "text/plain": [
       "Text(0.5,1,'Newspaper expenses vs Sales')"
      ]
     },
     "execution_count": 18,
     "metadata": {},
     "output_type": "execute_result"
    },
    {
     "data": {
      "image/png": "[encoded data removed]",
      "text/plain": [
       "<matplotlib.figure.Figure at 0x22640f0e6a0>"
      ]
     },
     "metadata": {},
     "output_type": "display_data"
    }
   ],
   "source": [
    "n_points = 200\n",
    "x3 = np.linspace(sim_data_newspaper['newspaper'].min(), sim_data_newspaper['newspaper'].max(), n_points)\n",
    "plt.plot(sim_data_newspaper['newspaper'], sim_data_newspaper['sales'], 'ko')\n",
    "plt.plot(x3, results_newspaper.params.newspaper*x3 + results_newspaper.params.Intercept, linewidth=3 , color = 'red')\n",
    "plt.grid(True)\n",
    "plt.xlabel('Newspaper expenses')\n",
    "plt.ylabel('Sales')\n",
    "plt.title('Newspaper expenses vs Sales')"
   ]
  },
  {
   "cell_type": "markdown",
   "metadata": {},
   "source": [
    "#### Getting parameters using sklearn ####"
   ]
  },
  {
   "cell_type": "code",
   "execution_count": 19,
   "metadata": {},
   "outputs": [
    {
     "name": "stdout",
     "output_type": "stream",
     "text": [
      "Intercept: 12.35141\n",
      "Slope : 0.05469\n"
     ]
    },
    {
     "data": {
      "image/png": "[encoded data removed]",
      "text/plain": [
       "<matplotlib.figure.Figure at 0x22640cb4f28>"
      ]
     },
     "metadata": {},
     "output_type": "display_data"
    }
   ],
   "source": [
    "#Initialize the model.\n",
    "linear_model_newspaper = linear_model.LinearRegression()\n",
    "\n",
    "# Fit the model to the data\n",
    "x_newspaper = sim_data_newspaper['newspaper'].values.reshape(n_points, 1) # the reshape is required by sklearn\n",
    "y_newspaper = sim_data_newspaper['sales'].values.reshape(n_points, 1)\n",
    "linear_model_newspaper.fit(x_newspaper, y_newspaper)\n",
    "\n",
    "# Get predictions\n",
    "y_newspaper_pred = linear_model_newspaper.predict(x_newspaper)\n",
    "\n",
    "# Plot output\n",
    "plt.scatter(x_newspaper, y_newspaper)\n",
    "plt.plot(x_newspaper, y_newspaper_pred, linewidth=2)\n",
    "plt.grid(True)\n",
    "plt.xlabel('Newspaper expenses')\n",
    "plt.ylabel('Total sales')\n",
    "plt.title('Newspaper expenses vs Total sales')\n",
    "\n",
    "# Print model parameters\n",
    "# Get slope (m) and y-intercept (b)\n",
    "print('Intercept: {0:.5f}'.format(linear_model_newspaper.intercept_[0]))\n",
    "print('Slope : {0:.5f}'.format(linear_model_newspaper.coef_[0][0]))"
   ]
  },
  {
   "cell_type": "markdown",
   "metadata": {},
   "source": [
    "Both models show the same results.\n",
    "Intercept = 12.35\n",
    "Slope = 0.05\n",
    "\n",
    "#### Parameter interpretation ####\n",
    "\n",
    "**Intercept**:  When **newspaper** expenses == 0 , **sales** are 12.35\n",
    "    \n",
    "**Slope**:  When we increase **newspaper** expenses by 1 then we expect that sales will go up by 0.05."
   ]
  },
  {
   "cell_type": "markdown",
   "metadata": {},
   "source": [
    "## 4. All three features ##"
   ]
  },
  {
   "cell_type": "code",
   "execution_count": 20,
   "metadata": {
    "collapsed": true
   },
   "outputs": [],
   "source": [
    "sim_data = ad_data #copy of dataset, contains all features and label"
   ]
  },
  {
   "cell_type": "code",
   "execution_count": 21,
   "metadata": {
    "collapsed": true
   },
   "outputs": [],
   "source": [
    "# Create a scale function for a column in a pandas df\n",
    "def scale(col):\n",
    "    mean_col = np.mean(col)\n",
    "    sd_col = np.std(col)\n",
    "    std = (col - mean_col) / sd_col\n",
    "    return std\n"
   ]
  },
  {
   "cell_type": "code",
   "execution_count": 22,
   "metadata": {
    "collapsed": true
   },
   "outputs": [],
   "source": [
    "#Priviously scale data (it's useful because now we have not the only feature)\n",
    "sim_data['TV'] = scale(sim_data['TV'])\n",
    "sim_data['radio'] = scale(sim_data['radio'])\n",
    "sim_data['newspaper'] = scale(sim_data['newspaper'])\n",
    "sim_data['sales'] = scale(sim_data['sales'])"
   ]
  },
  {
   "cell_type": "code",
   "execution_count": 23,
   "metadata": {},
   "outputs": [
    {
     "name": "stdout",
     "output_type": "stream",
     "text": [
      "Intercept: -0.00000\n",
      "Slope TV : 0.75307\n",
      "Slope Radio : 0.53648\n",
      "Slope Newspaper : -0.00433\n"
     ]
    }
   ],
   "source": [
    "# ols = ordinary least squares model\n",
    "ols_model = sm.ols(formula = 'sales ~ TV + radio + newspaper', data=sim_data)\n",
    "\n",
    "results = ols_model.fit()\n",
    "\n",
    "#Get slope (m) and y-intercept (b)\n",
    "print('Intercept: {0:.5f}'.format(results.params.Intercept))\n",
    "print('Slope TV : {0:.5f}'.format(results.params.TV))\n",
    "print('Slope Radio : {0:.5f}'.format(results.params.radio))\n",
    "print('Slope Newspaper : {0:.5f}'.format(results.params.newspaper))"
   ]
  },
  {
   "cell_type": "code",
   "execution_count": 24,
   "metadata": {},
   "outputs": [
    {
     "name": "stdout",
     "output_type": "stream",
     "text": [
      "\n",
      "SSE, SST, SSR, and RMSE:\n",
      "SSE: 179.44212763579029\n",
      "SST: 199.99999999999986\n",
      "SSR: 20.557872364209583\n",
      "RMSE: 7.733953875299716\n",
      "                            OLS Regression Results                            \n",
      "==============================================================================\n",
      "Dep. Variable:                  sales   R-squared:                       0.897\n",
      "Model:                            OLS   Adj. R-squared:                  0.896\n",
      "Method:                 Least Squares   F-statistic:                     570.3\n",
      "Date:                Thu, 17 May 2018   Prob (F-statistic):           1.58e-96\n",
      "Time:                        19:48:49   Log-Likelihood:                -56.280\n",
      "No. Observations:                 200   AIC:                             120.6\n",
      "Df Residuals:                     196   BIC:                             133.8\n",
      "Df Model:                           3                                         \n",
      "Covariance Type:            nonrobust                                         \n",
      "==============================================================================\n",
      "                 coef    std err          t      P>|t|      [0.025      0.975]\n",
      "------------------------------------------------------------------------------\n",
      "Intercept  -4.927e-16      0.023  -2.15e-14      1.000      -0.045       0.045\n",
      "TV             0.7531      0.023     32.809      0.000       0.708       0.798\n",
      "radio          0.5365      0.025     21.893      0.000       0.488       0.585\n",
      "newspaper     -0.0043      0.025     -0.177      0.860      -0.053       0.044\n",
      "==============================================================================\n",
      "Omnibus:                       60.414   Durbin-Watson:                   2.084\n",
      "Prob(Omnibus):                  0.000   Jarque-Bera (JB):              151.241\n",
      "Skew:                          -1.327   Prob(JB):                     1.44e-33\n",
      "Kurtosis:                       6.332   Cond. No.                         1.46\n",
      "==============================================================================\n",
      "\n",
      "Warnings:\n",
      "[1] Standard Errors assume that the covariance matrix of the errors is correctly specified.\n"
     ]
    },
    {
     "data": {
      "image/png": "[encoded data removed]",
      "text/plain": [
       "<matplotlib.figure.Figure at 0x226418cdb00>"
      ]
     },
     "metadata": {},
     "output_type": "display_data"
    }
   ],
   "source": [
    "print('\\nSSE, SST, SSR, and RMSE:')\n",
    "mean_y = np.mean(sim_data['sales'])\n",
    "sst = np.sum((sim_data['sales'] - mean_y)**2)\n",
    "sse = sst - results.ssr\n",
    "print('SSE: {}'.format(sse))\n",
    "print('SST: {}'.format(sst))\n",
    "print('SSR: {}'.format(results.ssr))\n",
    "print('RMSE: {}'.format(np.sqrt(results.mse_model)))\n",
    "\n",
    "# Get most of the linear regression statistics we are interested in:\n",
    "print(results.summary())\n",
    "\n",
    "# Plot a histogram of the residuals\n",
    "sns.distplot(results.resid, hist=True)\n",
    "plt.xlabel('Residual')\n",
    "plt.ylabel('Frequency')\n",
    "plt.title('Residual Histogram')\n",
    "\n",
    "#getting predicted valuesof sales\n",
    "y_pred = ols_model.fit().predict(sim_data[['TV', 'radio', 'newspaper']])"
   ]
  },
  {
   "cell_type": "markdown",
   "metadata": {},
   "source": [
    "### 1. Parameters interpretation ###\n",
    "\n",
    "**Intercept**  - value of sales (zero) if all features are equal zero. \n",
    "**Slope TV** - When we increase TV expenses by 1 then we expect that sales will go up by 0.75 in case if newspaper and radio expenses are fixed.\n",
    "**Slope radio** - When we increase radio expenses by 1 then we expect that sales will go up by 0.53 in case if newspaper and TV expenses are fixed.\n",
    "**Slope newspaper** - When we increase newspaper expenses by 1 then we expect that sales will go down by 0.004 in case if TV and radio expenses are fixed.\n",
    "\n",
    "Notes:\n",
    "1. For newspaper expenses we've got p-value = 0.860, it's larger 0.05, and it means that feature \"newspaper\" isn't significantly important for dependent variable \"sales\"."
   ]
  },
  {
   "cell_type": "markdown",
   "metadata": {},
   "source": [
    "### 2.  $R^2_{adj}$\n",
    "\n",
    "$R^2$ is the fraction of the variance of the original data explained by the model. A model that perfectly explains the data has $R^2 = 1$. A model which does not explain the data at all has $R^2 = 0$\n",
    "\n",
    "$R^2_{adj}$ also shows how well model describes data, but it has  an adjustment for the number of model parameters (there are 3 parameters in our example). \n",
    "\n",
    "$R^2$ = 0.897\n",
    "$R^2_{adj}$ = 0.896\n",
    "\n",
    "$R^2_{adj}$ is slidely less than $R^2$ but still close to 1 what shows good model fit."
   ]
  },
  {
   "cell_type": "markdown",
   "metadata": {},
   "source": [
    "### 3. Mean-squared error ###\n",
    "\n",
    "Mean-squared error  it's the mean of Sum-squared-error (SSE).\n",
    "\n",
    "This is a sum of a squared pointwise difference of the (SST - SSR) divided by number of datapoints. It's also a measurement of how much better we are explaining the variation than the mean.\n",
    "\n",
    "$MSE$ = $1/n*\\sum \\left( \\hat{Y_{i}} - \\bar{Y} \\right)^{2}$,\n",
    "where\n",
    "\n",
    "$\\bar{Y}$ - The mean of the target values.\n",
    "\n",
    "\n",
    "$\\hat{Y_{i}}$ - Predicted value of the i-th point.\n",
    "\n",
    "$n$ - number of datapoints.\n",
    "\n"
   ]
  },
  {
   "cell_type": "code",
   "execution_count": 32,
   "metadata": {},
   "outputs": [
    {
     "name": "stdout",
     "output_type": "stream",
     "text": [
      "0.8972106381789531\n"
     ]
    }
   ],
   "source": [
    "mse = np.sum((y_pred - mean_y)**2)/n_points\n",
    "print(mse)"
   ]
  },
  {
   "cell_type": "markdown",
   "metadata": {},
   "source": [
    "The same value as in summary statistics."
   ]
  },
  {
   "cell_type": "markdown",
   "metadata": {},
   "source": [
    "## SUMMARY##\n",
    "\n",
    "In this Assignment:\n",
    "\n",
    "1. Were built separate linear models for features 'TV', 'radio' and 'newspaper',\n",
    "were built graphs of fitted line and points,\n",
    "weere interpreted parameters Intercept and Slope.\n",
    "\n",
    "2. Were built multiple linear model including all three feature,\n",
    "were interpreted parameters,\n",
    "was interpreted the adjusted R-squared.\n",
    "was found the mean-squared error."
   ]
  }
 ],
 "metadata": {
  "kernelspec": {
   "display_name": "Python 3",
   "language": "python",
   "name": "python3"
  },
  "language_info": {
   "codemirror_mode": {
    "name": "ipython",
    "version": 3
   },
   "file_extension": ".py",
   "mimetype": "text/x-python",
   "name": "python",
   "nbconvert_exporter": "python",
   "pygments_lexer": "ipython3",
   "version": "3.6.6"
  }
 },
 "nbformat": 4,
 "nbformat_minor": 2
}
